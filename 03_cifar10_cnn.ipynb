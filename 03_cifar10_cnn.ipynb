{
 "cells": [
  {
   "cell_type": "markdown",
   "metadata": {},
   "source": [
    "**Train a simple deep CNN on the CIFAR10 small images dataset**\n",
    "- It gets to 75% validation accuracy in 25 epochs, and 79% after 50 epochs.\n",
    "- It's still underfitting at that point, though."
   ]
  },
  {
   "cell_type": "code",
   "execution_count": 1,
   "metadata": {},
   "outputs": [
    {
     "name": "stderr",
     "output_type": "stream",
     "text": [
      "D:\\ProgramData\\Anaconda\\lib\\site-packages\\h5py\\__init__.py:36: FutureWarning: Conversion of the second argument of issubdtype from `float` to `np.floating` is deprecated. In future, it will be treated as `np.float64 == np.dtype(float).type`.\n",
      "  from ._conv import register_converters as _register_converters\n",
      "Using TensorFlow backend.\n"
     ]
    }
   ],
   "source": [
    "from __future__ import print_function\n",
    "import keras\n",
    "from keras.datasets import cifar10\n",
    "from keras.preprocessing.image import ImageDataGenerator\n",
    "from keras.models import Sequential\n",
    "from keras.layers import Dense, Dropout, Activation, Flatten\n",
    "from keras.layers import Conv2D, MaxPooling2D\n",
    "import os"
   ]
  },
  {
   "cell_type": "code",
   "execution_count": 2,
   "metadata": {},
   "outputs": [],
   "source": [
    "batch_size = 32\n",
    "num_classes = 10\n",
    "epochs = 10\n",
    "data_augmentation = True\n",
    "num_predictions = 20\n",
    "save_dir = os.path.join(os.getcwd(), 'saved_models')\n",
    "model_name = 'keras_cifar10_trained_model.h5'"
   ]
  },
  {
   "cell_type": "code",
   "execution_count": 3,
   "metadata": {},
   "outputs": [
    {
     "name": "stdout",
     "output_type": "stream",
     "text": [
      "x_train shape: (50000, 32, 32, 3)\n",
      "50000 train samples\n",
      "10000 test samples\n"
     ]
    }
   ],
   "source": [
    "(x_train, y_train), (x_test, y_test) = cifar10.load_data()\n",
    "print('x_train shape:', x_train.shape)\n",
    "print(x_train.shape[0], 'train samples')\n",
    "print(x_test.shape[0], 'test samples')"
   ]
  },
  {
   "cell_type": "code",
   "execution_count": 4,
   "metadata": {},
   "outputs": [],
   "source": [
    "y_train = keras.utils.to_categorical(y_train,num_classes)\n",
    "y_test = keras.utils.to_categorical(y_test,num_classes)"
   ]
  },
  {
   "cell_type": "code",
   "execution_count": 5,
   "metadata": {},
   "outputs": [
    {
     "name": "stdout",
     "output_type": "stream",
     "text": [
      "_________________________________________________________________\n",
      "Layer (type)                 Output Shape              Param #   \n",
      "=================================================================\n",
      "conv2d_1 (Conv2D)            (None, 32, 32, 32)        896       \n",
      "_________________________________________________________________\n",
      "conv2d_2 (Conv2D)            (None, 32, 32, 32)        9248      \n",
      "_________________________________________________________________\n",
      "max_pooling2d_1 (MaxPooling2 (None, 16, 16, 32)        0         \n",
      "_________________________________________________________________\n",
      "dropout_1 (Dropout)          (None, 16, 16, 32)        0         \n",
      "_________________________________________________________________\n",
      "conv2d_3 (Conv2D)            (None, 16, 16, 64)        18496     \n",
      "_________________________________________________________________\n",
      "conv2d_4 (Conv2D)            (None, 16, 16, 64)        36928     \n",
      "_________________________________________________________________\n",
      "max_pooling2d_2 (MaxPooling2 (None, 8, 8, 64)          0         \n",
      "_________________________________________________________________\n",
      "dropout_2 (Dropout)          (None, 8, 8, 64)          0         \n",
      "_________________________________________________________________\n",
      "flatten_1 (Flatten)          (None, 4096)              0         \n",
      "_________________________________________________________________\n",
      "dense_1 (Dense)              (None, 512)               2097664   \n",
      "_________________________________________________________________\n",
      "dropout_3 (Dropout)          (None, 512)               0         \n",
      "_________________________________________________________________\n",
      "dense_2 (Dense)              (None, 10)                5130      \n",
      "=================================================================\n",
      "Total params: 2,168,362\n",
      "Trainable params: 2,168,362\n",
      "Non-trainable params: 0\n",
      "_________________________________________________________________\n",
      "None\n"
     ]
    }
   ],
   "source": [
    "model = Sequential()\n",
    "model.add(Conv2D(filters=32,kernel_size=(3,3),\n",
    "                 strides=(1,1),padding='same',\n",
    "                 activation='relu',input_shape=(32,32,3)))\n",
    "model.add(Conv2D(filters=32,kernel_size=(3,3),\n",
    "                 strides=(1,1),padding='same',\n",
    "                 activation='relu'))\n",
    "model.add(MaxPooling2D(pool_size=(2,2),padding='same'))\n",
    "model.add(Dropout(0.25))\n",
    "\n",
    "model.add(Conv2D(filters=64,kernel_size=(3,3),\n",
    "                 strides=(1,1),padding='same',\n",
    "                 activation='relu'))\n",
    "model.add(Conv2D(filters=64,kernel_size=(3,3),\n",
    "                 strides=(1,1),padding='same',\n",
    "                 activation='relu'))\n",
    "model.add(MaxPooling2D(pool_size=(2,2),padding='same'))\n",
    "model.add(Dropout(0.25))\n",
    "\n",
    "model.add(Flatten())\n",
    "model.add(Dense(units=512,activation='relu'))\n",
    "model.add(Dropout(0.5))\n",
    "model.add(Dense(units=num_classes,activation='softmax'))\n",
    "\n",
    "# initiate RMSprop optimizer\n",
    "opt = keras.optimizers.rmsprop(lr=0.0001, decay=1e-6)\n",
    "model.compile(loss=keras.losses.categorical_crossentropy,\n",
    "              optimizer=opt,\n",
    "              metrics=['accuracy'])\n",
    "print(model.summary())"
   ]
  },
  {
   "cell_type": "code",
   "execution_count": 6,
   "metadata": {},
   "outputs": [],
   "source": [
    "x_train = x_train.astype('float32')/255.\n",
    "x_test = x_test.astype('float32')/255."
   ]
  },
  {
   "cell_type": "code",
   "execution_count": 7,
   "metadata": {},
   "outputs": [
    {
     "name": "stdout",
     "output_type": "stream",
     "text": [
      "Using real-time data augmentation.\n",
      "WARNING:tensorflow:Variable *= will be deprecated. Use variable.assign_mul if you want assignment to the variable value or 'x = x * y' if you want a new python Tensor object.\n",
      "Epoch 1/10\n",
      "1563/1563 [==============================] - 59s 38ms/step - loss: 1.8459 - acc: 0.3258 - val_loss: 1.5677 - val_acc: 0.4405\n",
      "Epoch 2/10\n",
      "1563/1563 [==============================] - 57s 36ms/step - loss: 1.5541 - acc: 0.4348 - val_loss: 1.3598 - val_acc: 0.5162\n",
      "Epoch 3/10\n",
      "1563/1563 [==============================] - 61s 39ms/step - loss: 1.4343 - acc: 0.4824 - val_loss: 1.3350 - val_acc: 0.5216\n",
      "Epoch 4/10\n",
      "1563/1563 [==============================] - 60s 38ms/step - loss: 1.3394 - acc: 0.5199 - val_loss: 1.2517 - val_acc: 0.5579\n",
      "Epoch 5/10\n",
      "1563/1563 [==============================] - 61s 39ms/step - loss: 1.2678 - acc: 0.5488 - val_loss: 1.1200 - val_acc: 0.6065\n",
      "Epoch 6/10\n",
      "1563/1563 [==============================] - 60s 39ms/step - loss: 1.2059 - acc: 0.5704 - val_loss: 1.0988 - val_acc: 0.6102\n",
      "Epoch 7/10\n",
      "1563/1563 [==============================] - 60s 38ms/step - loss: 1.1595 - acc: 0.5871 - val_loss: 1.0248 - val_acc: 0.6347\n",
      "Epoch 8/10\n",
      "1563/1563 [==============================] - 62s 40ms/step - loss: 1.1210 - acc: 0.6046 - val_loss: 1.0367 - val_acc: 0.6354\n",
      "Epoch 9/10\n",
      "1563/1563 [==============================] - 61s 39ms/step - loss: 1.0817 - acc: 0.6150 - val_loss: 0.9952 - val_acc: 0.6502\n",
      "Epoch 10/10\n",
      "1563/1563 [==============================] - 62s 40ms/step - loss: 1.0565 - acc: 0.6275 - val_loss: 0.9762 - val_acc: 0.6591\n",
      "Saved trained model at F:\\软件安装\\迅雷下载\\Study\\机器学习案例\\Keras\\Tutorial\\saved_models\\keras_cifar10_trained_model.h5\n",
      "10000/10000 [==============================] - 3s 330us/step\n",
      "Test loss: 0.9761539760589599\n",
      "Test accuracy: 0.6591\n"
     ]
    }
   ],
   "source": [
    "if not data_augmentation:\n",
    "    print('Not using data augmentation.')\n",
    "    model.fit(x_train,y_train,\n",
    "              batch_size=batch_size,epochs=epochs,verbose=1,\n",
    "              validation_data=(x_test,y_test),shuffle=True)\n",
    "else:\n",
    "    print('Using real-time data augmentation.')\n",
    "    # This will do preprocessing and realtime data augmentation:\n",
    "    datagen = ImageDataGenerator(\n",
    "        featurewise_center=False,  # set input mean to 0 over the dataset\n",
    "        samplewise_center=False,  # set each sample mean to 0\n",
    "        featurewise_std_normalization=False,  # divide inputs by std of the dataset\n",
    "        samplewise_std_normalization=False,  # divide each input by its std\n",
    "        zca_whitening=False,  # apply ZCA whitening\n",
    "        rotation_range=0,  # randomly rotate images in the range (degrees, 0 to 180)\n",
    "        width_shift_range=0.1,  # randomly shift images horizontally (fraction of total width)\n",
    "        height_shift_range=0.1,  # randomly shift images vertically (fraction of total height)\n",
    "        horizontal_flip=True,  # randomly flip images\n",
    "        vertical_flip=False)  # randomly flip images\n",
    "\n",
    "    # Compute quantities required for feature-wise normalization\n",
    "    # (std, mean, and principal components if ZCA whitening is applied).\n",
    "    datagen.fit(x_train)\n",
    "    model.fit_generator(datagen.flow(x_train,y_train,\n",
    "                                     batch_size=batch_size),\n",
    "                        epochs=epochs,\n",
    "                        validation_data=(x_test, y_test),verbose=1)\n",
    "    # save model and weights\n",
    "    if not os.path.isdir(save_dir):\n",
    "        os.makedirs(save_dir)\n",
    "    model_path = os.path.join(save_dir,model_name)\n",
    "    model.save(model_path)\n",
    "    print('Saved trained model at %s'%model_path)\n",
    "    \n",
    "    # score trained model.\n",
    "    scores = model.evaluate(x_test,y_test,batch_size=batch_size,verbose=1)\n",
    "    print('Test loss:',scores[0])\n",
    "    print('Test accuracy:',scores[1])"
   ]
  },
  {
   "cell_type": "code",
   "execution_count": null,
   "metadata": {},
   "outputs": [],
   "source": []
  }
 ],
 "metadata": {
  "kernelspec": {
   "display_name": "Python 3",
   "language": "python",
   "name": "python3"
  },
  "language_info": {
   "codemirror_mode": {
    "name": "ipython",
    "version": 3
   },
   "file_extension": ".py",
   "mimetype": "text/x-python",
   "name": "python",
   "nbconvert_exporter": "python",
   "pygments_lexer": "ipython3",
   "version": "3.6.5"
  }
 },
 "nbformat": 4,
 "nbformat_minor": 2
}
